{
  "nbformat": 4,
  "nbformat_minor": 0,
  "metadata": {
    "colab": {
      "name": "Doggy_Door.ipynb",
      "provenance": [],
      "collapsed_sections": []
    },
    "kernelspec": {
      "name": "python3",
      "display_name": "Python 3"
    },
    "language_info": {
      "name": "python"
    }
  },
  "cells": [
    {
      "cell_type": "markdown",
      "metadata": {
        "id": "Gym28SzZorik"
      },
      "source": [
        "#DOGGY DOOR - A personalized door that only lets in your dog\n",
        "##Transfer Learning (VGG16)\n",
        "##Dataset : https://www.kaggle.com/c/dogs-vs-cats"
      ]
    },
    {
      "cell_type": "code",
      "metadata": {
        "id": "QBM5GIseolUC"
      },
      "source": [
        "from tensorflow import keras\n",
        "from tensorflow.keras.applications.vgg16 import VGG16\n",
        "import matplotlib.pyplot as plt\n",
        "import numpy as np"
      ],
      "execution_count": 1,
      "outputs": []
    },
    {
      "cell_type": "markdown",
      "metadata": {
        "id": "xHBVKmja2Pew"
      },
      "source": [
        "#Preparing dataset (training and validation)"
      ]
    },
    {
      "cell_type": "code",
      "metadata": {
        "id": "vOIGqPpV61wU"
      },
      "source": [
        "BATCH_SIZE = 16"
      ],
      "execution_count": null,
      "outputs": []
    },
    {
      "cell_type": "code",
      "metadata": {
        "colab": {
          "base_uri": "https://localhost:8080/"
        },
        "id": "xUmbESvmEAhc",
        "outputId": "4ec30929-c6a1-4a35-8ef0-3b1b40401f0c"
      },
      "source": [
        "from google.colab import drive\n",
        "drive.mount('/content/drive')"
      ],
      "execution_count": 2,
      "outputs": [
        {
          "output_type": "stream",
          "name": "stdout",
          "text": [
            "Mounted at /content/drive\n"
          ]
        }
      ]
    },
    {
      "cell_type": "markdown",
      "metadata": {
        "id": "f8rc63uU2tkp"
      },
      "source": [
        "##Training set"
      ]
    },
    {
      "cell_type": "code",
      "metadata": {
        "id": "RuZQn3jNu0C8",
        "colab": {
          "base_uri": "https://localhost:8080/"
        },
        "outputId": "c423d6b2-3e12-4326-a046-a04baae81630"
      },
      "source": [
        "train_data = '/content/drive/MyDrive/Colab_Notebooks/DL/Projects/Classification/Cats_and_Dogs/Datasets/train'\n",
        "train_datagen = keras.preprocessing.image.ImageDataGenerator()\n",
        "training_set = train_datagen.flow_from_directory(train_data, batch_size=BATCH_SIZE, class_mode='binary')"
      ],
      "execution_count": null,
      "outputs": [
        {
          "output_type": "stream",
          "text": [
            "Found 2000 images belonging to 2 classes.\n"
          ],
          "name": "stdout"
        }
      ]
    },
    {
      "cell_type": "markdown",
      "metadata": {
        "id": "nHRdA37t4g0X"
      },
      "source": [
        "##Validation set"
      ]
    },
    {
      "cell_type": "code",
      "metadata": {
        "id": "iv-s3A7cu0C9",
        "colab": {
          "base_uri": "https://localhost:8080/"
        },
        "outputId": "97ef5235-cc64-4a82-e4e3-c4ec97a60749"
      },
      "source": [
        "validation_data = '/content/drive/MyDrive/Colab_Notebooks/DL/Projects/Classification/Cats_and_Dogs/Datasets/validation'\n",
        "validation_datagen = keras.preprocessing.image.ImageDataGenerator()\n",
        "validation_set = validation_datagen.flow_from_directory(validation_data, batch_size=BATCH_SIZE, class_mode='binary')"
      ],
      "execution_count": null,
      "outputs": [
        {
          "output_type": "stream",
          "text": [
            "Found 1000 images belonging to 2 classes.\n"
          ],
          "name": "stdout"
        }
      ]
    },
    {
      "cell_type": "markdown",
      "metadata": {
        "id": "Z8FatRCAElc2"
      },
      "source": [
        "#Building the model"
      ]
    },
    {
      "cell_type": "code",
      "metadata": {
        "id": "rdiyOngDrNvh"
      },
      "source": [
        "IMAGE_SIZE = 224"
      ],
      "execution_count": null,
      "outputs": []
    },
    {
      "cell_type": "markdown",
      "metadata": {
        "id": "CQ8ZPeF0d5_W"
      },
      "source": [
        "##Base model (VGG16)"
      ]
    },
    {
      "cell_type": "code",
      "metadata": {
        "id": "sW2u_sTBr9Vx",
        "colab": {
          "base_uri": "https://localhost:8080/"
        },
        "outputId": "0447cd14-f911-415a-def6-cc44cec41a71"
      },
      "source": [
        "#create the base model from the pre-trained VGG16 model with ANN part removed\n",
        "vgg16 = VGG16(input_shape=[IMAGE_SIZE]+[IMAGE_SIZE]+[3], weights='imagenet', include_top=False)\n",
        "\n",
        "#freeze the convolutional base\n",
        "for layer in vgg16.layers:\n",
        "  layer.trainable = False\n",
        "\n",
        "#base model summary\n",
        "vgg16.summary()"
      ],
      "execution_count": null,
      "outputs": [
        {
          "output_type": "stream",
          "text": [
            "Downloading data from https://storage.googleapis.com/tensorflow/keras-applications/vgg16/vgg16_weights_tf_dim_ordering_tf_kernels_notop.h5\n",
            "58892288/58889256 [==============================] - 0s 0us/step\n",
            "Model: \"vgg16\"\n",
            "_________________________________________________________________\n",
            "Layer (type)                 Output Shape              Param #   \n",
            "=================================================================\n",
            "input_1 (InputLayer)         [(None, 224, 224, 3)]     0         \n",
            "_________________________________________________________________\n",
            "block1_conv1 (Conv2D)        (None, 224, 224, 64)      1792      \n",
            "_________________________________________________________________\n",
            "block1_conv2 (Conv2D)        (None, 224, 224, 64)      36928     \n",
            "_________________________________________________________________\n",
            "block1_pool (MaxPooling2D)   (None, 112, 112, 64)      0         \n",
            "_________________________________________________________________\n",
            "block2_conv1 (Conv2D)        (None, 112, 112, 128)     73856     \n",
            "_________________________________________________________________\n",
            "block2_conv2 (Conv2D)        (None, 112, 112, 128)     147584    \n",
            "_________________________________________________________________\n",
            "block2_pool (MaxPooling2D)   (None, 56, 56, 128)       0         \n",
            "_________________________________________________________________\n",
            "block3_conv1 (Conv2D)        (None, 56, 56, 256)       295168    \n",
            "_________________________________________________________________\n",
            "block3_conv2 (Conv2D)        (None, 56, 56, 256)       590080    \n",
            "_________________________________________________________________\n",
            "block3_conv3 (Conv2D)        (None, 56, 56, 256)       590080    \n",
            "_________________________________________________________________\n",
            "block3_pool (MaxPooling2D)   (None, 28, 28, 256)       0         \n",
            "_________________________________________________________________\n",
            "block4_conv1 (Conv2D)        (None, 28, 28, 512)       1180160   \n",
            "_________________________________________________________________\n",
            "block4_conv2 (Conv2D)        (None, 28, 28, 512)       2359808   \n",
            "_________________________________________________________________\n",
            "block4_conv3 (Conv2D)        (None, 28, 28, 512)       2359808   \n",
            "_________________________________________________________________\n",
            "block4_pool (MaxPooling2D)   (None, 14, 14, 512)       0         \n",
            "_________________________________________________________________\n",
            "block5_conv1 (Conv2D)        (None, 14, 14, 512)       2359808   \n",
            "_________________________________________________________________\n",
            "block5_conv2 (Conv2D)        (None, 14, 14, 512)       2359808   \n",
            "_________________________________________________________________\n",
            "block5_conv3 (Conv2D)        (None, 14, 14, 512)       2359808   \n",
            "_________________________________________________________________\n",
            "block5_pool (MaxPooling2D)   (None, 7, 7, 512)         0         \n",
            "=================================================================\n",
            "Total params: 14,714,688\n",
            "Trainable params: 0\n",
            "Non-trainable params: 14,714,688\n",
            "_________________________________________________________________\n"
          ],
          "name": "stdout"
        }
      ]
    },
    {
      "cell_type": "markdown",
      "metadata": {
        "id": "byDOd5qo1iTp"
      },
      "source": [
        "##Base model (VGG16) + Our layers"
      ]
    },
    {
      "cell_type": "code",
      "metadata": {
        "id": "vDBlTBTQvCAz",
        "colab": {
          "base_uri": "https://localhost:8080/"
        },
        "outputId": "6756e4be-fb44-4972-af47-8c4c3847ab01"
      },
      "source": [
        "#initialising the model\n",
        "model_vgg16 = keras.models.Sequential()\n",
        "\n",
        "#Input layer\n",
        "model_vgg16.add(keras.layers.Input(shape=(None, None, 3)))\n",
        "\n",
        "#Resizing layer\n",
        "model_vgg16.add(keras.layers.experimental.preprocessing.Resizing(height=IMAGE_SIZE, width=IMAGE_SIZE))\n",
        "\n",
        "#Rescaling layer\n",
        "model_vgg16.add(keras.layers.experimental.preprocessing.Rescaling(scale=1./255))\n",
        "\n",
        "#Data augmentation layers\n",
        "model_vgg16.add(keras.layers.experimental.preprocessing.RandomRotation(0.2))\n",
        "model_vgg16.add(keras.layers.experimental.preprocessing.RandomZoom(0.2))\n",
        "model_vgg16.add(keras.layers.experimental.preprocessing.RandomFlip(mode=\"horizontal\"))\n",
        "\n",
        "#Base model\n",
        "model_vgg16.add(vgg16)  \n",
        "\n",
        "#Flatten\n",
        "model_vgg16.add(keras.layers.Flatten()) \n",
        "\n",
        "#Hidden layer\n",
        "model_vgg16.add(keras.layers.Dense(units=256, activation='relu', kernel_initializer='he_uniform'))\n",
        "\n",
        "#Dropout layer\n",
        "model_vgg16.add(keras.layers.Dropout(rate=0.5))\n",
        "\n",
        "#Output layer\n",
        "model_vgg16.add(keras.layers.Dense(units=1, activation='sigmoid', kernel_initializer='glorot_uniform')) \n",
        "\n",
        "#compiling the model\n",
        "model_vgg16.compile(optimizer='adam', loss='binary_crossentropy', metrics=['accuracy'])\n",
        "\n",
        "#view the structure of the model\n",
        "model_vgg16.summary()"
      ],
      "execution_count": null,
      "outputs": [
        {
          "output_type": "stream",
          "text": [
            "Model: \"sequential\"\n",
            "_________________________________________________________________\n",
            "Layer (type)                 Output Shape              Param #   \n",
            "=================================================================\n",
            "resizing (Resizing)          (None, 224, 224, 3)       0         \n",
            "_________________________________________________________________\n",
            "rescaling (Rescaling)        (None, 224, 224, 3)       0         \n",
            "_________________________________________________________________\n",
            "random_rotation (RandomRotat (None, 224, 224, 3)       0         \n",
            "_________________________________________________________________\n",
            "random_zoom (RandomZoom)     (None, 224, 224, 3)       0         \n",
            "_________________________________________________________________\n",
            "random_flip (RandomFlip)     (None, 224, 224, 3)       0         \n",
            "_________________________________________________________________\n",
            "vgg16 (Functional)           (None, 7, 7, 512)         14714688  \n",
            "_________________________________________________________________\n",
            "flatten (Flatten)            (None, 25088)             0         \n",
            "_________________________________________________________________\n",
            "dense (Dense)                (None, 256)               6422784   \n",
            "_________________________________________________________________\n",
            "dropout (Dropout)            (None, 256)               0         \n",
            "_________________________________________________________________\n",
            "dense_1 (Dense)              (None, 1)                 257       \n",
            "=================================================================\n",
            "Total params: 21,137,729\n",
            "Trainable params: 6,423,041\n",
            "Non-trainable params: 14,714,688\n",
            "_________________________________________________________________\n"
          ],
          "name": "stdout"
        }
      ]
    },
    {
      "cell_type": "markdown",
      "metadata": {
        "id": "3fBDg9A8O-Os"
      },
      "source": [
        "#Training phase"
      ]
    },
    {
      "cell_type": "code",
      "metadata": {
        "scrolled": true,
        "id": "MPx7MiD8u0DR",
        "colab": {
          "base_uri": "https://localhost:8080/"
        },
        "outputId": "4f491c5c-352a-427e-9df6-796877533563"
      },
      "source": [
        "#training the model on the training set and evaluating it on the validation set\n",
        "model_vgg16_history = model_vgg16.fit(x=training_set, validation_data=validation_set, epochs=50)"
      ],
      "execution_count": null,
      "outputs": [
        {
          "output_type": "stream",
          "text": [
            "Epoch 1/50\n",
            "125/125 [==============================] - 776s 6s/step - loss: 1.0725 - accuracy: 0.6468 - val_loss: 0.3832 - val_accuracy: 0.8110\n",
            "Epoch 2/50\n",
            "125/125 [==============================] - 15s 123ms/step - loss: 0.4579 - accuracy: 0.7935 - val_loss: 0.2925 - val_accuracy: 0.8900\n",
            "Epoch 3/50\n",
            "125/125 [==============================] - 15s 123ms/step - loss: 0.4666 - accuracy: 0.7852 - val_loss: 0.2664 - val_accuracy: 0.9030\n",
            "Epoch 4/50\n",
            "125/125 [==============================] - 15s 123ms/step - loss: 0.3866 - accuracy: 0.8274 - val_loss: 0.2654 - val_accuracy: 0.8820\n",
            "Epoch 5/50\n",
            "125/125 [==============================] - 16s 125ms/step - loss: 0.3961 - accuracy: 0.8378 - val_loss: 0.2391 - val_accuracy: 0.8960\n",
            "Epoch 6/50\n",
            "125/125 [==============================] - 16s 125ms/step - loss: 0.3917 - accuracy: 0.8201 - val_loss: 0.2243 - val_accuracy: 0.9050\n",
            "Epoch 7/50\n",
            "125/125 [==============================] - 16s 125ms/step - loss: 0.3662 - accuracy: 0.8265 - val_loss: 0.2251 - val_accuracy: 0.9040\n",
            "Epoch 8/50\n",
            "125/125 [==============================] - 16s 126ms/step - loss: 0.3880 - accuracy: 0.8172 - val_loss: 0.2090 - val_accuracy: 0.9050\n",
            "Epoch 9/50\n",
            "125/125 [==============================] - 16s 127ms/step - loss: 0.3824 - accuracy: 0.8208 - val_loss: 0.2229 - val_accuracy: 0.9040\n",
            "Epoch 10/50\n",
            "125/125 [==============================] - 16s 125ms/step - loss: 0.3522 - accuracy: 0.8305 - val_loss: 0.2095 - val_accuracy: 0.9020\n",
            "Epoch 11/50\n",
            "125/125 [==============================] - 16s 125ms/step - loss: 0.3488 - accuracy: 0.8372 - val_loss: 0.2004 - val_accuracy: 0.9100\n",
            "Epoch 12/50\n",
            "125/125 [==============================] - 16s 125ms/step - loss: 0.3390 - accuracy: 0.8251 - val_loss: 0.2114 - val_accuracy: 0.9140\n",
            "Epoch 13/50\n",
            "125/125 [==============================] - 16s 124ms/step - loss: 0.3344 - accuracy: 0.8484 - val_loss: 0.1999 - val_accuracy: 0.9150\n",
            "Epoch 14/50\n",
            "125/125 [==============================] - 16s 125ms/step - loss: 0.3569 - accuracy: 0.8274 - val_loss: 0.2236 - val_accuracy: 0.8990\n",
            "Epoch 15/50\n",
            "125/125 [==============================] - 15s 124ms/step - loss: 0.3243 - accuracy: 0.8563 - val_loss: 0.2045 - val_accuracy: 0.9160\n",
            "Epoch 16/50\n",
            "125/125 [==============================] - 16s 125ms/step - loss: 0.3293 - accuracy: 0.8609 - val_loss: 0.2007 - val_accuracy: 0.9160\n",
            "Epoch 17/50\n",
            "125/125 [==============================] - 16s 125ms/step - loss: 0.3006 - accuracy: 0.8534 - val_loss: 0.1974 - val_accuracy: 0.9170\n",
            "Epoch 18/50\n",
            "125/125 [==============================] - 16s 124ms/step - loss: 0.3152 - accuracy: 0.8587 - val_loss: 0.2039 - val_accuracy: 0.9150\n",
            "Epoch 19/50\n",
            "125/125 [==============================] - 16s 125ms/step - loss: 0.2994 - accuracy: 0.8610 - val_loss: 0.2077 - val_accuracy: 0.9080\n",
            "Epoch 20/50\n",
            "125/125 [==============================] - 16s 125ms/step - loss: 0.3010 - accuracy: 0.8550 - val_loss: 0.2266 - val_accuracy: 0.9060\n",
            "Epoch 21/50\n",
            "125/125 [==============================] - 16s 124ms/step - loss: 0.2868 - accuracy: 0.8617 - val_loss: 0.2093 - val_accuracy: 0.9110\n",
            "Epoch 22/50\n",
            "125/125 [==============================] - 16s 125ms/step - loss: 0.3199 - accuracy: 0.8669 - val_loss: 0.2110 - val_accuracy: 0.9090\n",
            "Epoch 23/50\n",
            "125/125 [==============================] - 16s 125ms/step - loss: 0.2949 - accuracy: 0.8801 - val_loss: 0.2242 - val_accuracy: 0.9190\n",
            "Epoch 24/50\n",
            "125/125 [==============================] - 16s 125ms/step - loss: 0.3170 - accuracy: 0.8769 - val_loss: 0.2445 - val_accuracy: 0.8990\n",
            "Epoch 25/50\n",
            "125/125 [==============================] - 16s 125ms/step - loss: 0.2790 - accuracy: 0.8744 - val_loss: 0.2315 - val_accuracy: 0.9190\n",
            "Epoch 26/50\n",
            "125/125 [==============================] - 16s 125ms/step - loss: 0.2921 - accuracy: 0.8718 - val_loss: 0.2130 - val_accuracy: 0.9190\n",
            "Epoch 27/50\n",
            "125/125 [==============================] - 16s 125ms/step - loss: 0.2880 - accuracy: 0.8744 - val_loss: 0.1932 - val_accuracy: 0.9200\n",
            "Epoch 28/50\n",
            "125/125 [==============================] - 16s 125ms/step - loss: 0.2785 - accuracy: 0.8708 - val_loss: 0.1953 - val_accuracy: 0.9250\n",
            "Epoch 29/50\n",
            "125/125 [==============================] - 16s 126ms/step - loss: 0.2923 - accuracy: 0.8717 - val_loss: 0.2028 - val_accuracy: 0.9120\n",
            "Epoch 30/50\n",
            "125/125 [==============================] - 16s 125ms/step - loss: 0.2972 - accuracy: 0.8502 - val_loss: 0.2087 - val_accuracy: 0.9000\n",
            "Epoch 31/50\n",
            "125/125 [==============================] - 16s 125ms/step - loss: 0.2901 - accuracy: 0.8751 - val_loss: 0.2006 - val_accuracy: 0.9210\n",
            "Epoch 32/50\n",
            "125/125 [==============================] - 16s 124ms/step - loss: 0.3072 - accuracy: 0.8638 - val_loss: 0.2148 - val_accuracy: 0.9100\n",
            "Epoch 33/50\n",
            "125/125 [==============================] - 16s 125ms/step - loss: 0.2713 - accuracy: 0.8700 - val_loss: 0.2402 - val_accuracy: 0.9110\n",
            "Epoch 34/50\n",
            "125/125 [==============================] - 16s 124ms/step - loss: 0.2900 - accuracy: 0.8673 - val_loss: 0.2072 - val_accuracy: 0.9170\n",
            "Epoch 35/50\n",
            "125/125 [==============================] - 16s 124ms/step - loss: 0.2445 - accuracy: 0.8846 - val_loss: 0.2171 - val_accuracy: 0.9110\n",
            "Epoch 36/50\n",
            "125/125 [==============================] - 16s 125ms/step - loss: 0.2605 - accuracy: 0.8620 - val_loss: 0.2108 - val_accuracy: 0.9180\n",
            "Epoch 37/50\n",
            "125/125 [==============================] - 16s 125ms/step - loss: 0.2841 - accuracy: 0.8727 - val_loss: 0.1999 - val_accuracy: 0.9180\n",
            "Epoch 38/50\n",
            "125/125 [==============================] - 16s 124ms/step - loss: 0.2591 - accuracy: 0.8903 - val_loss: 0.2080 - val_accuracy: 0.9130\n",
            "Epoch 39/50\n",
            "125/125 [==============================] - 16s 125ms/step - loss: 0.2967 - accuracy: 0.8652 - val_loss: 0.2164 - val_accuracy: 0.9210\n",
            "Epoch 40/50\n",
            "125/125 [==============================] - 16s 125ms/step - loss: 0.2701 - accuracy: 0.8802 - val_loss: 0.2249 - val_accuracy: 0.9140\n",
            "Epoch 41/50\n",
            "125/125 [==============================] - 16s 125ms/step - loss: 0.2725 - accuracy: 0.8769 - val_loss: 0.2064 - val_accuracy: 0.9170\n",
            "Epoch 42/50\n",
            "125/125 [==============================] - 16s 124ms/step - loss: 0.2489 - accuracy: 0.8939 - val_loss: 0.2117 - val_accuracy: 0.9210\n",
            "Epoch 43/50\n",
            "125/125 [==============================] - 16s 125ms/step - loss: 0.2535 - accuracy: 0.8796 - val_loss: 0.2308 - val_accuracy: 0.9210\n",
            "Epoch 44/50\n",
            "125/125 [==============================] - 16s 124ms/step - loss: 0.2644 - accuracy: 0.8806 - val_loss: 0.2153 - val_accuracy: 0.9170\n",
            "Epoch 45/50\n",
            "125/125 [==============================] - 16s 125ms/step - loss: 0.2525 - accuracy: 0.8750 - val_loss: 0.2211 - val_accuracy: 0.9090\n",
            "Epoch 46/50\n",
            "125/125 [==============================] - 16s 125ms/step - loss: 0.2407 - accuracy: 0.9024 - val_loss: 0.2001 - val_accuracy: 0.9180\n",
            "Epoch 47/50\n",
            "125/125 [==============================] - 16s 125ms/step - loss: 0.2616 - accuracy: 0.8772 - val_loss: 0.2283 - val_accuracy: 0.9170\n",
            "Epoch 48/50\n",
            "125/125 [==============================] - 16s 126ms/step - loss: 0.2324 - accuracy: 0.8962 - val_loss: 0.2303 - val_accuracy: 0.9170\n",
            "Epoch 49/50\n",
            "125/125 [==============================] - 16s 125ms/step - loss: 0.2551 - accuracy: 0.8852 - val_loss: 0.2166 - val_accuracy: 0.9060\n",
            "Epoch 50/50\n",
            "125/125 [==============================] - 16s 125ms/step - loss: 0.2555 - accuracy: 0.8878 - val_loss: 0.2225 - val_accuracy: 0.9200\n"
          ],
          "name": "stdout"
        }
      ]
    },
    {
      "cell_type": "markdown",
      "metadata": {
        "id": "vXPoLf9DUQQd"
      },
      "source": [
        "##Plot the loss & accuracy"
      ]
    },
    {
      "cell_type": "code",
      "metadata": {
        "id": "RC_nb7U2u0DT",
        "colab": {
          "base_uri": "https://localhost:8080/",
          "height": 369
        },
        "outputId": "0f98acd3-ac4d-4bb9-bff4-0c7594a1174e"
      },
      "source": [
        "plt.figure(figsize=(10,5))\n",
        "plt.subplot(1,2,1)\n",
        "plt.plot(model_vgg16_history.history['loss'], label='train loss')\n",
        "plt.plot(model_vgg16_history.history['val_loss'], label='val loss')\n",
        "plt.legend()\n",
        "plt.xlabel(\"Epoch\")\n",
        "plt.ylabel(\"Loss\")\n",
        "plt.subplot(1,2,2)\n",
        "plt.plot(model_vgg16_history.history['accuracy'], label='train acc')\n",
        "plt.plot(model_vgg16_history.history['val_accuracy'], label='val acc')\n",
        "plt.legend()\n",
        "plt.xlabel(\"Epoch\")\n",
        "plt.ylabel(\"Accuracy\")\n",
        "plt.tight_layout()\n",
        "plt.show()"
      ],
      "execution_count": null,
      "outputs": [
        {
          "output_type": "display_data",
          "data": {
            "image/png": "[encoded data removed]",
            "text/plain": [
              "<Figure size 720x360 with 2 Axes>"
            ]
          },
          "metadata": {
            "tags": [],
            "needs_background": "light"
          }
        }
      ]
    },
    {
      "cell_type": "code",
      "metadata": {
        "id": "jicETPJIu0DV"
      },
      "source": [
        "##save the trained model as a h5 file\n",
        "model_vgg16.save('/content/drive/MyDrive/Colab_Notebooks/DL/Projects/Classification/Doggy_Door/model_vgg16_doggy_door.h5')"
      ],
      "execution_count": null,
      "outputs": []
    },
    {
      "cell_type": "code",
      "metadata": {
        "id": "ZnIsQDVsu0DW",
        "colab": {
          "base_uri": "https://localhost:8080/"
        },
        "outputId": "9ef9b22b-d729-4ea5-eabc-29807f26edc9"
      },
      "source": [
        "##load the trained model\n",
        "trained_model_vgg16 = keras.models.load_model('/content/drive/MyDrive/Colab_Notebooks/DL/Projects/Classification/Doggy_Door/model_vgg16_doggy_door.h5')\n",
        "trained_model_vgg16.summary()"
      ],
      "execution_count": 3,
      "outputs": [
        {
          "output_type": "stream",
          "name": "stdout",
          "text": [
            "Model: \"sequential\"\n",
            "_________________________________________________________________\n",
            " Layer (type)                Output Shape              Param #   \n",
            "=================================================================\n",
            " resizing (Resizing)         (None, 224, 224, 3)       0         \n",
            "                                                                 \n",
            " rescaling (Rescaling)       (None, 224, 224, 3)       0         \n",
            "                                                                 \n",
            " random_rotation (RandomRota  (None, 224, 224, 3)      0         \n",
            " tion)                                                           \n",
            "                                                                 \n",
            " random_zoom (RandomZoom)    (None, 224, 224, 3)       0         \n",
            "                                                                 \n",
            " random_flip (RandomFlip)    (None, 224, 224, 3)       0         \n",
            "                                                                 \n",
            " vgg16 (Functional)          (None, 7, 7, 512)         14714688  \n",
            "                                                                 \n",
            " flatten (Flatten)           (None, 25088)             0         \n",
            "                                                                 \n",
            " dense (Dense)               (None, 256)               6422784   \n",
            "                                                                 \n",
            " dropout (Dropout)           (None, 256)               0         \n",
            "                                                                 \n",
            " dense_1 (Dense)             (None, 1)                 257       \n",
            "                                                                 \n",
            "=================================================================\n",
            "Total params: 21,137,729\n",
            "Trainable params: 6,423,041\n",
            "Non-trainable params: 14,714,688\n",
            "_________________________________________________________________\n"
          ]
        }
      ]
    },
    {
      "cell_type": "markdown",
      "metadata": {
        "id": "2oloTsUKZST9"
      },
      "source": [
        "#Testing phase"
      ]
    },
    {
      "cell_type": "code",
      "metadata": {
        "id": "NmzhlFEW7Kur",
        "colab": {
          "base_uri": "https://localhost:8080/"
        },
        "outputId": "caf28cc4-2dc8-4919-b258-dfea4fa9176f"
      },
      "source": [
        "##predicting single test data\n",
        "td = '/content/drive/MyDrive/Colab_Notebooks/DL/Projects/Classification/Cats_and_Dogs/Datasets/test/1.jpg'\n",
        "ti = keras.preprocessing.image.load_img(td)  #image reading\n",
        "ti = keras.preprocessing.image.img_to_array(ti) #(h, w, 3)\n",
        "ti = np.array([ti]) #(n, h, w, 3)\n",
        "\n",
        "#prediction\n",
        "res = trained_model_vgg16.predict(ti)\n",
        "if res[0] < 0.5:\n",
        "  cls = 0 #Non-Dog\n",
        "  print(\"Only DOGs are allowed\")\n",
        "else:\n",
        "  cls = 1 #Dog\n",
        "  print(\"Welcome\")"
      ],
      "execution_count": 7,
      "outputs": [
        {
          "output_type": "stream",
          "name": "stdout",
          "text": [
            "Welcome\n"
          ]
        }
      ]
    }
  ]
}
